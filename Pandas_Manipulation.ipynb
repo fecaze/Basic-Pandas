{
  "nbformat": 4,
  "nbformat_minor": 0,
  "metadata": {
    "colab": {
      "provenance": [],
      "authorship_tag": "ABX9TyMPMphHLdiL5sB3JBKn/3ha",
      "include_colab_link": true
    },
    "kernelspec": {
      "name": "python3",
      "display_name": "Python 3"
    },
    "language_info": {
      "name": "python"
    }
  },
  "cells": [
    {
      "cell_type": "markdown",
      "metadata": {
        "id": "view-in-github",
        "colab_type": "text"
      },
      "source": [
        "<a href=\"https://colab.research.google.com/github/fecaze/Basic-Pandas/blob/main/Pandas_Manipulation.ipynb\" target=\"_parent\"><img src=\"https://colab.research.google.com/assets/colab-badge.svg\" alt=\"Open In Colab\"/></a>"
      ]
    },
    {
      "cell_type": "code",
      "execution_count": null,
      "metadata": {
        "id": "Pf6_x1-skeet",
        "colab": {
          "base_uri": "https://localhost:8080/"
        },
        "outputId": "e2601d68-c71b-4c60-94c1-85451fd83703"
      },
      "outputs": [
        {
          "output_type": "stream",
          "name": "stdout",
          "text": [
            "\n",
            "Menu:\n",
            "a) Imprimir informações básicas do DataFrame\n",
            "b) Exibir as últimas duas linhas do DataFrame\n",
            "c) Criar um novo DataFrame com 'Desenvolvedor' ou 'Estagiário'\n",
            "d) Salvar o DataFrame resultante da letra c) em um arquivo CSV\n",
            "e) Sair\n",
            "\n",
            "Escolha uma opção do menu: b\n",
            "\n",
            "Últimas duas linhas do DataFrame:\n",
            "     Nome  Idade       Cargo\n",
            "2  Estela     22     Gerente\n",
            "3  Rafael     35  Estagiário\n",
            "\n",
            "Menu:\n",
            "a) Imprimir informações básicas do DataFrame\n",
            "b) Exibir as últimas duas linhas do DataFrame\n",
            "c) Criar um novo DataFrame com 'Desenvolvedor' ou 'Estagiário'\n",
            "d) Salvar o DataFrame resultante da letra c) em um arquivo CSV\n",
            "e) Sair\n",
            "\n",
            "Escolha uma opção do menu: a\n",
            "Informações básicas do DataFrame:\n",
            "<class 'pandas.core.frame.DataFrame'>\n",
            "RangeIndex: 4 entries, 0 to 3\n",
            "Data columns (total 3 columns):\n",
            " #   Column  Non-Null Count  Dtype \n",
            "---  ------  --------------  ----- \n",
            " 0   Nome    4 non-null      object\n",
            " 1   Idade   4 non-null      int64 \n",
            " 2   Cargo   4 non-null      object\n",
            "dtypes: int64(1), object(2)\n",
            "memory usage: 224.0+ bytes\n",
            "\n",
            "Média das idades: 28.0\n",
            "Desvio padrão das idades: 5.715476066494082\n",
            "\n",
            "Menu:\n",
            "a) Imprimir informações básicas do DataFrame\n",
            "b) Exibir as últimas duas linhas do DataFrame\n",
            "c) Criar um novo DataFrame com 'Desenvolvedor' ou 'Estagiário'\n",
            "d) Salvar o DataFrame resultante da letra c) em um arquivo CSV\n",
            "e) Sair\n",
            "\n",
            "Escolha uma opção do menu: e\n",
            "Programa encerrado.\n"
          ]
        }
      ],
      "source": [
        "import pandas as pd\n",
        "\n",
        "# Dados\n",
        "data = {\n",
        "    'Nome': ['Tomas', 'Bruno', 'Estela', 'Rafael'],\n",
        "    'Idade': [25, 30, 22, 35],\n",
        "    'Cargo': ['Analista', 'Desenvolvedor', 'Gerente', 'Estagiário']\n",
        "}\n",
        "\n",
        "df = pd.DataFrame(data)\n",
        "\n",
        "def exibir_menu():\n",
        "    print(\"\\nMenu:\")\n",
        "    print(\"a) Imprimir informações básicas do DataFrame\")\n",
        "    print(\"b) Exibir as últimas duas linhas do DataFrame\")\n",
        "    print(\"c) Criar um novo DataFrame com 'Desenvolvedor' ou 'Estagiário'\")\n",
        "    print(\"d) Salvar o DataFrame resultante da letra c) em um arquivo CSV\")\n",
        "    print(\"e) Sair\")\n",
        "\n",
        "def info_basica(df):\n",
        "    print(\"Informações básicas do DataFrame:\")\n",
        "    df.info()\n",
        "    print(\"\\nMédia das idades:\", df['Idade'].mean())\n",
        "    print(\"Desvio padrão das idades:\", df['Idade'].std())\n",
        "\n",
        "def ultimas_linhas(df):\n",
        "    print(\"\\nÚltimas duas linhas do DataFrame:\")\n",
        "    print(df.tail(2))\n",
        "\n",
        "def filtro_cargo(df):\n",
        "    cargos = ['Desenvolvedor', 'Estagiário']\n",
        "    novo_df = df[df['Cargo'].isin(cargos)]\n",
        "    print(\"\\nNovo DataFrame com pessoas cujo cargo é 'Desenvolvedor' ou 'Estagiário':\")\n",
        "    print(novo_df)\n",
        "    return novo_df\n",
        "\n",
        "def salvar_csv(df):\n",
        "    nome_arquivo = input(\"\\nDigite o nome do arquivo CSV para salvar (incluindo a extensão .csv): \").strip()\n",
        "    if nome_arquivo == \"\":\n",
        "        print(\"Nome de arquivo inválido.\")\n",
        "        return\n",
        "\n",
        "    try:\n",
        "        df.to_csv(nome_arquivo, index=False)\n",
        "        print(f\"DataFrame salvo com sucesso no arquivo {nome_arquivo}\")\n",
        "    except Exception as e:\n",
        "        print(f\"Erro ao salvar o arquivo: {e}\")\n",
        "\n",
        "while True:\n",
        "    exibir_menu()\n",
        "    escolha = input(\"\\nEscolha uma opção do menu: \").lower()\n",
        "\n",
        "    if escolha == 'a':\n",
        "        info_basica(df)\n",
        "    elif escolha == 'b':\n",
        "        ultimas_linhas(df)\n",
        "    elif escolha == 'c':\n",
        "        df = filtro_cargo(df)\n",
        "    elif escolha == 'd':\n",
        "        salvar_csv(df)\n",
        "    elif escolha == 'e':\n",
        "        print(\"Programa encerrado.\")\n",
        "        break\n",
        "    else:\n",
        "        print(\"Opção inválida. Por favor, escolha uma das opções do menu.\")\n"
      ]
    }
  ]
}